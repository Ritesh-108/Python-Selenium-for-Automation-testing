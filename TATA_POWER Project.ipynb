{
 "cells": [
  {
   "cell_type": "code",
   "execution_count": 1,
   "id": "33c33612",
   "metadata": {},
   "outputs": [],
   "source": [
    "Input_String = \"https://localhost/?REQUEST=GetMap&SERVICE=WMS&VERSION=1.3.0&LAYERS=1&STYLES=default&FORMAT=image/png&TRANSPARENT=TRUE&CRS=CRS:84&BBOX=11.45586126,48.77322986,11.45686126,48.77422986&WIDTH=1024&HEIGHT=1024\""
   ]
  },
  {
   "cell_type": "code",
   "execution_count": 2,
   "id": "a640ca89",
   "metadata": {},
   "outputs": [
    {
     "data": {
      "text/plain": [
       "'https://localhost/?REQUEST=GetMap&SERVICE=WMS&VERSION=1.3.0&LAYERS=1&STYLES=default&FORMAT=image/png&TRANSPARENT=TRUE&CRS=CRS:84&BBOX=11.45586126,48.77322986,11.45686126,48.77422986&WIDTH=1024&HEIGHT=1024'"
      ]
     },
     "execution_count": 2,
     "metadata": {},
     "output_type": "execute_result"
    }
   ],
   "source": [
    "Input_String"
   ]
  },
  {
   "cell_type": "code",
   "execution_count": 3,
   "id": "edbc3415",
   "metadata": {},
   "outputs": [],
   "source": [
    "Output_String = \"https://ois.had.in.here.com/api/rest/v1/wms/getMap/bbox/11.45586126,48.77322986,11.45686126,48.77422986/width/1024/height/1024/format/png?imageryType=VEXCEL&apiKey=Qy0lC4IEXzdJY6zxUdMk2aWZO2qnmyVvOLQP50lRaEM\""
   ]
  },
  {
   "cell_type": "code",
   "execution_count": 4,
   "id": "2a457422",
   "metadata": {},
   "outputs": [
    {
     "data": {
      "text/plain": [
       "'https://ois.had.in.here.com/api/rest/v1/wms/getMap/bbox/11.45586126,48.77322986,11.45686126,48.77422986/width/1024/height/1024/format/png?imageryType=VEXCEL&apiKey=Qy0lC4IEXzdJY6zxUdMk2aWZO2qnmyVvOLQP50lRaEM'"
      ]
     },
     "execution_count": 4,
     "metadata": {},
     "output_type": "execute_result"
    }
   ],
   "source": [
    "Output_String"
   ]
  },
  {
   "cell_type": "code",
   "execution_count": 5,
   "id": "fbf579c4",
   "metadata": {},
   "outputs": [
    {
     "name": "stdout",
     "output_type": "stream",
     "text": [
      "https://localhost/?REQUEST=GetMap&SERVICE=WMS&VERSION=1.3.0&LAYERS=1&STYLES=default&FORMAT=image/png&TRANSPARENT=TRUE&CRS=CRS:84&BBOX=11.45586126,48.77322986,11.45686126,48.77422986&WIDTH=1024&HEIGHT=1024\n",
      "\n",
      "\n",
      "https://ois.had.in.here.com/api/rest/v1/wms/getMap/bbox/11.45586126,48.77322986,11.45686126,48.77422986/width/1024/height/1024/format/png?imageryType=VEXCEL&apiKey=Qy0lC4IEXzdJY6zxUdMk2aWZO2qnmyVvOLQP50lRaEM\n"
     ]
    }
   ],
   "source": [
    "print(Input_String)\n",
    "print()\n",
    "print()\n",
    "print(Output_String)\n",
    "\n"
   ]
  },
  {
   "cell_type": "code",
   "execution_count": 6,
   "id": "20b452d5",
   "metadata": {},
   "outputs": [
    {
     "data": {
      "text/plain": [
       "'HEIGHT=1024'"
      ]
     },
     "execution_count": 6,
     "metadata": {},
     "output_type": "execute_result"
    }
   ],
   "source": [
    "Logic_String = Input_String.split('X=')\n",
    "Logic_String=Logic_String[1].split('&')\n",
    "Logic_String[0]\n",
    "Logic_String[1]\n",
    "Logic_String[2]"
   ]
  },
  {
   "cell_type": "code",
   "execution_count": 7,
   "id": "9948806f",
   "metadata": {},
   "outputs": [
    {
     "name": "stdout",
     "output_type": "stream",
     "text": [
      "11.45586126,48.77322986,11.45686126,48.77422986\n",
      "WIDTH=1024\n",
      "HEIGHT=1024\n",
      "Width_Part :  1024\n",
      "Height_Part :  1024\n"
     ]
    }
   ],
   "source": [
    "Num_Part = Logic_String[0]\n",
    "Width_Part = Logic_String[1].split('=')\n",
    "Width_Part = Width_Part[1]\n",
    "print(\"Width_Part : \",Width_Part)\n",
    "Height_Part = Logic_String[2].split('=')\n",
    "Height_Part = Height_Part[1]\n",
    "print(\"Height_Part : \",Height_Part)"
   ]
  },
  {
   "cell_type": "code",
   "execution_count": 9,
   "id": "89e77cbe",
   "metadata": {},
   "outputs": [
    {
     "name": "stdout",
     "output_type": "stream",
     "text": [
      "11.45586126,48.77322986,11.45686126,48.77422986\n",
      "1024\n",
      "1024\n"
     ]
    }
   ],
   "source": [
    "print(Num_Part)\n",
    "print(Width_Part)\n",
    "print(Height_Part)"
   ]
  },
  {
   "cell_type": "code",
   "execution_count": null,
   "id": "a5c947a3",
   "metadata": {},
   "outputs": [],
   "source": []
  }
 ],
 "metadata": {
  "kernelspec": {
   "display_name": "Python 3 (ipykernel)",
   "language": "python",
   "name": "python3"
  },
  "language_info": {
   "codemirror_mode": {
    "name": "ipython",
    "version": 3
   },
   "file_extension": ".py",
   "mimetype": "text/x-python",
   "name": "python",
   "nbconvert_exporter": "python",
   "pygments_lexer": "ipython3",
   "version": "3.11.1"
  }
 },
 "nbformat": 4,
 "nbformat_minor": 5
}
